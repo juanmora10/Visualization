{
 "cells": [
  {
   "cell_type": "markdown",
   "metadata": {},
   "source": [
    "### Summarizing and Visualizing\n",
    "#### Import Relevant Libraries"
   ]
  },
  {
   "cell_type": "code",
   "execution_count": 4,
   "metadata": {},
   "outputs": [],
   "source": [
    "library(tidyverse)\n",
    "library(gapminder)"
   ]
  },
  {
   "cell_type": "markdown",
   "metadata": {},
   "source": [
    "##### Calculating the mean for lifeExp"
   ]
  },
  {
   "cell_type": "code",
   "execution_count": 6,
   "metadata": {},
   "outputs": [
    {
     "data": {
      "text/html": [
       "<table>\n",
       "<thead><tr><th scope=col>meanLifeExp</th></tr></thead>\n",
       "<tbody>\n",
       "\t<tr><td>59.47444</td></tr>\n",
       "</tbody>\n",
       "</table>\n"
      ],
      "text/latex": [
       "\\begin{tabular}{r|l}\n",
       " meanLifeExp\\\\\n",
       "\\hline\n",
       "\t 59.47444\\\\\n",
       "\\end{tabular}\n"
      ],
      "text/markdown": [
       "\n",
       "| meanLifeExp |\n",
       "|---|\n",
       "| 59.47444 |\n",
       "\n"
      ],
      "text/plain": [
       "  meanLifeExp\n",
       "1 59.47444   "
      ]
     },
     "metadata": {},
     "output_type": "display_data"
    }
   ],
   "source": [
    "gapminder %>% summarize(meanLifeExp = mean(lifeExp))"
   ]
  },
  {
   "cell_type": "markdown",
   "metadata": {},
   "source": [
    "##### Calculating the mean, median, max, and min for lifeExp in 2007 a"
   ]
  },
  {
   "cell_type": "code",
   "execution_count": 7,
   "metadata": {},
   "outputs": [
    {
     "data": {
      "text/html": [
       "<table>\n",
       "<thead><tr><th scope=col>meanLifeExp</th></tr></thead>\n",
       "<tbody>\n",
       "\t<tr><td>67.00742</td></tr>\n",
       "</tbody>\n",
       "</table>\n"
      ],
      "text/latex": [
       "\\begin{tabular}{r|l}\n",
       " meanLifeExp\\\\\n",
       "\\hline\n",
       "\t 67.00742\\\\\n",
       "\\end{tabular}\n"
      ],
      "text/markdown": [
       "\n",
       "| meanLifeExp |\n",
       "|---|\n",
       "| 67.00742 |\n",
       "\n"
      ],
      "text/plain": [
       "  meanLifeExp\n",
       "1 67.00742   "
      ]
     },
     "metadata": {},
     "output_type": "display_data"
    }
   ],
   "source": [
    "gapminder %>% filter(year == 2007) %>% summarize(meanLifeExp = mean(lifeExp))"
   ]
  },
  {
   "cell_type": "code",
   "execution_count": 11,
   "metadata": {},
   "outputs": [
    {
     "data": {
      "text/html": [
       "<table>\n",
       "<thead><tr><th scope=col>meanLifeExp</th><th scope=col>total_pop</th></tr></thead>\n",
       "<tbody>\n",
       "\t<tr><td>67.00742  </td><td>6251013179</td></tr>\n",
       "</tbody>\n",
       "</table>\n"
      ],
      "text/latex": [
       "\\begin{tabular}{r|ll}\n",
       " meanLifeExp & total\\_pop\\\\\n",
       "\\hline\n",
       "\t 67.00742   & 6251013179\\\\\n",
       "\\end{tabular}\n"
      ],
      "text/markdown": [
       "\n",
       "| meanLifeExp | total_pop |\n",
       "|---|---|\n",
       "| 67.00742   | 6251013179 |\n",
       "\n"
      ],
      "text/plain": [
       "  meanLifeExp total_pop \n",
       "1 67.00742    6251013179"
      ]
     },
     "metadata": {},
     "output_type": "display_data"
    }
   ],
   "source": [
    "gapminder %>% filter(year == 2007) %>% summarize(meanLifeExp = mean(lifeExp), total_pop = sum(as.numeric(pop)))"
   ]
  },
  {
   "cell_type": "markdown",
   "metadata": {},
   "source": [
    "##### Grouping using \"group_by\" "
   ]
  },
  {
   "cell_type": "code",
   "execution_count": 21,
   "metadata": {},
   "outputs": [
    {
     "data": {
      "text/html": [
       "<table>\n",
       "<thead><tr><th scope=col>year</th><th scope=col>meanLifeExp</th><th scope=col>total_pop</th><th scope=col>min_gdp</th><th scope=col>max_gdp</th></tr></thead>\n",
       "<tbody>\n",
       "\t<tr><td>1952      </td><td>49.05762  </td><td>2406957150</td><td>298.8462  </td><td>108382.35 </td></tr>\n",
       "\t<tr><td>1957      </td><td>51.50740  </td><td>2664404580</td><td>335.9971  </td><td>113523.13 </td></tr>\n",
       "\t<tr><td>1962      </td><td>53.60925  </td><td>2899782974</td><td>355.2032  </td><td> 95458.11 </td></tr>\n",
       "\t<tr><td>1967      </td><td>55.67829  </td><td>3217478384</td><td>349.0000  </td><td> 80894.88 </td></tr>\n",
       "\t<tr><td>1972      </td><td>57.64739  </td><td>3576977158</td><td>357.0000  </td><td>109347.87 </td></tr>\n",
       "\t<tr><td>1977      </td><td>59.57016  </td><td>3930045807</td><td>371.0000  </td><td> 59265.48 </td></tr>\n",
       "\t<tr><td>1982      </td><td>61.53320  </td><td>4289436840</td><td>424.0000  </td><td> 33693.18 </td></tr>\n",
       "\t<tr><td>1987      </td><td>63.21261  </td><td>4691477418</td><td>385.0000  </td><td> 31540.97 </td></tr>\n",
       "\t<tr><td>1992      </td><td>64.16034  </td><td>5110710260</td><td>347.0000  </td><td> 34932.92 </td></tr>\n",
       "\t<tr><td>1997      </td><td>65.01468  </td><td>5515204472</td><td>312.1884  </td><td> 41283.16 </td></tr>\n",
       "\t<tr><td>2002      </td><td>65.69492  </td><td>5886977579</td><td>241.1659  </td><td> 44683.98 </td></tr>\n",
       "\t<tr><td>2007      </td><td>67.00742  </td><td>6251013179</td><td>277.5519  </td><td> 49357.19 </td></tr>\n",
       "</tbody>\n",
       "</table>\n"
      ],
      "text/latex": [
       "\\begin{tabular}{r|lllll}\n",
       " year & meanLifeExp & total\\_pop & min\\_gdp & max\\_gdp\\\\\n",
       "\\hline\n",
       "\t 1952       & 49.05762   & 2406957150 & 298.8462   & 108382.35 \\\\\n",
       "\t 1957       & 51.50740   & 2664404580 & 335.9971   & 113523.13 \\\\\n",
       "\t 1962       & 53.60925   & 2899782974 & 355.2032   &  95458.11 \\\\\n",
       "\t 1967       & 55.67829   & 3217478384 & 349.0000   &  80894.88 \\\\\n",
       "\t 1972       & 57.64739   & 3576977158 & 357.0000   & 109347.87 \\\\\n",
       "\t 1977       & 59.57016   & 3930045807 & 371.0000   &  59265.48 \\\\\n",
       "\t 1982       & 61.53320   & 4289436840 & 424.0000   &  33693.18 \\\\\n",
       "\t 1987       & 63.21261   & 4691477418 & 385.0000   &  31540.97 \\\\\n",
       "\t 1992       & 64.16034   & 5110710260 & 347.0000   &  34932.92 \\\\\n",
       "\t 1997       & 65.01468   & 5515204472 & 312.1884   &  41283.16 \\\\\n",
       "\t 2002       & 65.69492   & 5886977579 & 241.1659   &  44683.98 \\\\\n",
       "\t 2007       & 67.00742   & 6251013179 & 277.5519   &  49357.19 \\\\\n",
       "\\end{tabular}\n"
      ],
      "text/markdown": [
       "\n",
       "| year | meanLifeExp | total_pop | min_gdp | max_gdp |\n",
       "|---|---|---|---|---|\n",
       "| 1952       | 49.05762   | 2406957150 | 298.8462   | 108382.35  |\n",
       "| 1957       | 51.50740   | 2664404580 | 335.9971   | 113523.13  |\n",
       "| 1962       | 53.60925   | 2899782974 | 355.2032   |  95458.11  |\n",
       "| 1967       | 55.67829   | 3217478384 | 349.0000   |  80894.88  |\n",
       "| 1972       | 57.64739   | 3576977158 | 357.0000   | 109347.87  |\n",
       "| 1977       | 59.57016   | 3930045807 | 371.0000   |  59265.48  |\n",
       "| 1982       | 61.53320   | 4289436840 | 424.0000   |  33693.18  |\n",
       "| 1987       | 63.21261   | 4691477418 | 385.0000   |  31540.97  |\n",
       "| 1992       | 64.16034   | 5110710260 | 347.0000   |  34932.92  |\n",
       "| 1997       | 65.01468   | 5515204472 | 312.1884   |  41283.16  |\n",
       "| 2002       | 65.69492   | 5886977579 | 241.1659   |  44683.98  |\n",
       "| 2007       | 67.00742   | 6251013179 | 277.5519   |  49357.19  |\n",
       "\n"
      ],
      "text/plain": [
       "   year meanLifeExp total_pop  min_gdp  max_gdp  \n",
       "1  1952 49.05762    2406957150 298.8462 108382.35\n",
       "2  1957 51.50740    2664404580 335.9971 113523.13\n",
       "3  1962 53.60925    2899782974 355.2032  95458.11\n",
       "4  1967 55.67829    3217478384 349.0000  80894.88\n",
       "5  1972 57.64739    3576977158 357.0000 109347.87\n",
       "6  1977 59.57016    3930045807 371.0000  59265.48\n",
       "7  1982 61.53320    4289436840 424.0000  33693.18\n",
       "8  1987 63.21261    4691477418 385.0000  31540.97\n",
       "9  1992 64.16034    5110710260 347.0000  34932.92\n",
       "10 1997 65.01468    5515204472 312.1884  41283.16\n",
       "11 2002 65.69492    5886977579 241.1659  44683.98\n",
       "12 2007 67.00742    6251013179 277.5519  49357.19"
      ]
     },
     "metadata": {},
     "output_type": "display_data"
    }
   ],
   "source": [
    "gapminder %>%   # \"group_by\" most be use before summarize()\n",
    "    group_by(year) %>% \n",
    "        summarize(meanLifeExp = mean(lifeExp), \n",
    "                  total_pop = sum(as.numeric(pop)), \n",
    "                  min_gdp = min(gdpPercap), \n",
    "                  max_gdp = max(gdpPercap))"
   ]
  },
  {
   "cell_type": "code",
   "execution_count": 26,
   "metadata": {},
   "outputs": [
    {
     "data": {
      "text/html": [
       "<table>\n",
       "<thead><tr><th scope=col>min_lifeExp</th><th scope=col>max_lifeExp</th></tr></thead>\n",
       "<tbody>\n",
       "\t<tr><td>50.643</td><td>72.889</td></tr>\n",
       "</tbody>\n",
       "</table>\n"
      ],
      "text/latex": [
       "\\begin{tabular}{r|ll}\n",
       " min\\_lifeExp & max\\_lifeExp\\\\\n",
       "\\hline\n",
       "\t 50.643 & 72.889\\\\\n",
       "\\end{tabular}\n"
      ],
      "text/markdown": [
       "\n",
       "| min_lifeExp | max_lifeExp |\n",
       "|---|---|\n",
       "| 50.643 | 72.889 |\n",
       "\n"
      ],
      "text/plain": [
       "  min_lifeExp max_lifeExp\n",
       "1 50.643      72.889     "
      ]
     },
     "metadata": {},
     "output_type": "display_data"
    }
   ],
   "source": [
    "col <- gapminder %>% filter(country == \"Colombia\")\n",
    "col %>% summarize(min_lifeExp = min(lifeExp), max_lifeExp = max(lifeExp))"
   ]
  },
  {
   "cell_type": "code",
   "execution_count": 52,
   "metadata": {},
   "outputs": [
    {
     "data": {
      "text/html": [
       "<table>\n",
       "<thead><tr><th scope=col>continent</th><th scope=col>meanLifeExp</th><th scope=col>meanGdpPercap</th><th scope=col>totalGdpPercap</th><th scope=col>totalPop</th></tr></thead>\n",
       "<tbody>\n",
       "\t<tr><td>Africa    </td><td>54.80604  </td><td> 3089.033 </td><td>160629.70 </td><td> 929539692</td></tr>\n",
       "\t<tr><td>Americas  </td><td>73.60812  </td><td>11003.032 </td><td>275075.79 </td><td> 898871184</td></tr>\n",
       "\t<tr><td>Asia      </td><td>70.72848  </td><td>12473.027 </td><td>411609.89 </td><td>3811953827</td></tr>\n",
       "\t<tr><td>Europe    </td><td>77.64860  </td><td>25054.482 </td><td>751634.45 </td><td> 586098529</td></tr>\n",
       "\t<tr><td>Oceania   </td><td>80.71950  </td><td>29810.188 </td><td> 59620.38 </td><td>  24549947</td></tr>\n",
       "</tbody>\n",
       "</table>\n"
      ],
      "text/latex": [
       "\\begin{tabular}{r|lllll}\n",
       " continent & meanLifeExp & meanGdpPercap & totalGdpPercap & totalPop\\\\\n",
       "\\hline\n",
       "\t Africa     & 54.80604   &  3089.033  & 160629.70  &  929539692\\\\\n",
       "\t Americas   & 73.60812   & 11003.032  & 275075.79  &  898871184\\\\\n",
       "\t Asia       & 70.72848   & 12473.027  & 411609.89  & 3811953827\\\\\n",
       "\t Europe     & 77.64860   & 25054.482  & 751634.45  &  586098529\\\\\n",
       "\t Oceania    & 80.71950   & 29810.188  &  59620.38  &   24549947\\\\\n",
       "\\end{tabular}\n"
      ],
      "text/markdown": [
       "\n",
       "| continent | meanLifeExp | meanGdpPercap | totalGdpPercap | totalPop |\n",
       "|---|---|---|---|---|\n",
       "| Africa     | 54.80604   |  3089.033  | 160629.70  |  929539692 |\n",
       "| Americas   | 73.60812   | 11003.032  | 275075.79  |  898871184 |\n",
       "| Asia       | 70.72848   | 12473.027  | 411609.89  | 3811953827 |\n",
       "| Europe     | 77.64860   | 25054.482  | 751634.45  |  586098529 |\n",
       "| Oceania    | 80.71950   | 29810.188  |  59620.38  |   24549947 |\n",
       "\n"
      ],
      "text/plain": [
       "  continent meanLifeExp meanGdpPercap totalGdpPercap totalPop  \n",
       "1 Africa    54.80604     3089.033     160629.70       929539692\n",
       "2 Americas  73.60812    11003.032     275075.79       898871184\n",
       "3 Asia      70.72848    12473.027     411609.89      3811953827\n",
       "4 Europe    77.64860    25054.482     751634.45       586098529\n",
       "5 Oceania   80.71950    29810.188      59620.38        24549947"
      ]
     },
     "metadata": {},
     "output_type": "display_data"
    }
   ],
   "source": [
    "gapminder %>% \n",
    "    filter(year == 2007) %>%\n",
    "        group_by(continent) %>% \n",
    "            summarize(meanLifeExp = mean(lifeExp), \n",
    "                      meanGdpPercap = mean(gdpPercap),\n",
    "                      totalGdpPercap = sum(gdpPercap), \n",
    "                      totalPop = sum(as.numeric(pop)))"
   ]
  },
  {
   "cell_type": "code",
   "execution_count": 53,
   "metadata": {},
   "outputs": [
    {
     "data": {
      "text/html": [
       "<table>\n",
       "<thead><tr><th scope=col>continent</th><th scope=col>meanLifeExp</th><th scope=col>meanGdpPercap</th><th scope=col>totalGdpPercap</th><th scope=col>totalPop</th></tr></thead>\n",
       "<tbody>\n",
       "\t<tr><td>Africa    </td><td>54.80604  </td><td> 3089.033 </td><td>160629.70 </td><td> 929539692</td></tr>\n",
       "\t<tr><td>Americas  </td><td>73.60812  </td><td>11003.032 </td><td>275075.79 </td><td> 898871184</td></tr>\n",
       "\t<tr><td>Asia      </td><td>70.72848  </td><td>12473.027 </td><td>411609.89 </td><td>3811953827</td></tr>\n",
       "\t<tr><td>Europe    </td><td>77.64860  </td><td>25054.482 </td><td>751634.45 </td><td> 586098529</td></tr>\n",
       "\t<tr><td>Oceania   </td><td>80.71950  </td><td>29810.188 </td><td> 59620.38 </td><td>  24549947</td></tr>\n",
       "</tbody>\n",
       "</table>\n"
      ],
      "text/latex": [
       "\\begin{tabular}{r|lllll}\n",
       " continent & meanLifeExp & meanGdpPercap & totalGdpPercap & totalPop\\\\\n",
       "\\hline\n",
       "\t Africa     & 54.80604   &  3089.033  & 160629.70  &  929539692\\\\\n",
       "\t Americas   & 73.60812   & 11003.032  & 275075.79  &  898871184\\\\\n",
       "\t Asia       & 70.72848   & 12473.027  & 411609.89  & 3811953827\\\\\n",
       "\t Europe     & 77.64860   & 25054.482  & 751634.45  &  586098529\\\\\n",
       "\t Oceania    & 80.71950   & 29810.188  &  59620.38  &   24549947\\\\\n",
       "\\end{tabular}\n"
      ],
      "text/markdown": [
       "\n",
       "| continent | meanLifeExp | meanGdpPercap | totalGdpPercap | totalPop |\n",
       "|---|---|---|---|---|\n",
       "| Africa     | 54.80604   |  3089.033  | 160629.70  |  929539692 |\n",
       "| Americas   | 73.60812   | 11003.032  | 275075.79  |  898871184 |\n",
       "| Asia       | 70.72848   | 12473.027  | 411609.89  | 3811953827 |\n",
       "| Europe     | 77.64860   | 25054.482  | 751634.45  |  586098529 |\n",
       "| Oceania    | 80.71950   | 29810.188  |  59620.38  |   24549947 |\n",
       "\n"
      ],
      "text/plain": [
       "  continent meanLifeExp meanGdpPercap totalGdpPercap totalPop  \n",
       "1 Africa    54.80604     3089.033     160629.70       929539692\n",
       "2 Americas  73.60812    11003.032     275075.79       898871184\n",
       "3 Asia      70.72848    12473.027     411609.89      3811953827\n",
       "4 Europe    77.64860    25054.482     751634.45       586098529\n",
       "5 Oceania   80.71950    29810.188      59620.38        24549947"
      ]
     },
     "metadata": {},
     "output_type": "display_data"
    }
   ],
   "source": [
    "continent <- gapminder %>% \n",
    "    filter(year == 2007) %>%\n",
    "        group_by(continent) %>% \n",
    "            summarize(meanLifeExp = mean(lifeExp), \n",
    "                      meanGdpPercap = mean(gdpPercap),\n",
    "                      totalGdpPercap = sum(gdpPercap), \n",
    "                      totalPop = sum(as.numeric(pop)))\n",
    "continent"
   ]
  },
  {
   "cell_type": "code",
   "execution_count": 54,
   "metadata": {},
   "outputs": [
    {
     "data": {
      "text/html": [
       "<table>\n",
       "<thead><tr><th scope=col>continent</th><th scope=col>meanLifeExp</th><th scope=col>meanGdpPercap</th><th scope=col>totalGdpPercap</th><th scope=col>totalPop</th><th scope=col>parTotalPop</th><th scope=col>parTotalGdp</th></tr></thead>\n",
       "<tbody>\n",
       "\t<tr><td>Africa     </td><td>54.80604   </td><td> 3089.033  </td><td>160629.70  </td><td> 929539692 </td><td>0.148702245</td><td>0.09684829 </td></tr>\n",
       "\t<tr><td>Americas   </td><td>73.60812   </td><td>11003.032  </td><td>275075.79  </td><td> 898871184 </td><td>0.143796079</td><td>0.16585116 </td></tr>\n",
       "\t<tr><td>Asia       </td><td>70.72848   </td><td>12473.027  </td><td>411609.89  </td><td>3811953827 </td><td>0.609813756</td><td>0.24817152 </td></tr>\n",
       "\t<tr><td>Europe     </td><td>77.64860   </td><td>25054.482  </td><td>751634.45  </td><td> 586098529 </td><td>0.093760565</td><td>0.45318217 </td></tr>\n",
       "\t<tr><td>Oceania    </td><td>80.71950   </td><td>29810.188  </td><td> 59620.38  </td><td>  24549947 </td><td>0.003927355</td><td>0.03594685 </td></tr>\n",
       "</tbody>\n",
       "</table>\n"
      ],
      "text/latex": [
       "\\begin{tabular}{r|lllllll}\n",
       " continent & meanLifeExp & meanGdpPercap & totalGdpPercap & totalPop & parTotalPop & parTotalGdp\\\\\n",
       "\\hline\n",
       "\t Africa      & 54.80604    &  3089.033   & 160629.70   &  929539692  & 0.148702245 & 0.09684829 \\\\\n",
       "\t Americas    & 73.60812    & 11003.032   & 275075.79   &  898871184  & 0.143796079 & 0.16585116 \\\\\n",
       "\t Asia        & 70.72848    & 12473.027   & 411609.89   & 3811953827  & 0.609813756 & 0.24817152 \\\\\n",
       "\t Europe      & 77.64860    & 25054.482   & 751634.45   &  586098529  & 0.093760565 & 0.45318217 \\\\\n",
       "\t Oceania     & 80.71950    & 29810.188   &  59620.38   &   24549947  & 0.003927355 & 0.03594685 \\\\\n",
       "\\end{tabular}\n"
      ],
      "text/markdown": [
       "\n",
       "| continent | meanLifeExp | meanGdpPercap | totalGdpPercap | totalPop | parTotalPop | parTotalGdp |\n",
       "|---|---|---|---|---|---|---|\n",
       "| Africa      | 54.80604    |  3089.033   | 160629.70   |  929539692  | 0.148702245 | 0.09684829  |\n",
       "| Americas    | 73.60812    | 11003.032   | 275075.79   |  898871184  | 0.143796079 | 0.16585116  |\n",
       "| Asia        | 70.72848    | 12473.027   | 411609.89   | 3811953827  | 0.609813756 | 0.24817152  |\n",
       "| Europe      | 77.64860    | 25054.482   | 751634.45   |  586098529  | 0.093760565 | 0.45318217  |\n",
       "| Oceania     | 80.71950    | 29810.188   |  59620.38   |   24549947  | 0.003927355 | 0.03594685  |\n",
       "\n"
      ],
      "text/plain": [
       "  continent meanLifeExp meanGdpPercap totalGdpPercap totalPop   parTotalPop\n",
       "1 Africa    54.80604     3089.033     160629.70       929539692 0.148702245\n",
       "2 Americas  73.60812    11003.032     275075.79       898871184 0.143796079\n",
       "3 Asia      70.72848    12473.027     411609.89      3811953827 0.609813756\n",
       "4 Europe    77.64860    25054.482     751634.45       586098529 0.093760565\n",
       "5 Oceania   80.71950    29810.188      59620.38        24549947 0.003927355\n",
       "  parTotalGdp\n",
       "1 0.09684829 \n",
       "2 0.16585116 \n",
       "3 0.24817152 \n",
       "4 0.45318217 \n",
       "5 0.03594685 "
      ]
     },
     "metadata": {},
     "output_type": "display_data"
    }
   ],
   "source": [
    "continent %>% mutate(parTotalPop = totalPop/sum(cont[1:5,5]),\n",
    "                parTotalGdp = totalGdpPercap/sum(cont[1:5,4]))"
   ]
  },
  {
   "cell_type": "markdown",
   "metadata": {},
   "source": [
    "##### Keep grouping "
   ]
  },
  {
   "cell_type": "code",
   "execution_count": 58,
   "metadata": {},
   "outputs": [
    {
     "data": {
      "text/html": [
       "<table>\n",
       "<thead><tr><th scope=col>year</th><th scope=col>continent</th><th scope=col>meanLifeExp</th><th scope=col>meanGdpPercap</th><th scope=col>totalGdpPercap</th><th scope=col>totalPop</th></tr></thead>\n",
       "<tbody>\n",
       "\t<tr><td>1952      </td><td>Africa    </td><td>39.13550  </td><td> 1252.572 </td><td> 65133.77 </td><td> 237640501</td></tr>\n",
       "\t<tr><td>1952      </td><td>Americas  </td><td>53.27984  </td><td> 4079.063 </td><td>101976.56 </td><td> 345152446</td></tr>\n",
       "\t<tr><td>1952      </td><td>Asia      </td><td>46.31439  </td><td> 5195.484 </td><td>171450.97 </td><td>1395357351</td></tr>\n",
       "\t<tr><td>1952      </td><td>Europe    </td><td>64.40850  </td><td> 5661.057 </td><td>169831.72 </td><td> 418120846</td></tr>\n",
       "\t<tr><td>1952      </td><td>Oceania   </td><td>69.25500  </td><td>10298.086 </td><td> 20596.17 </td><td>  10686006</td></tr>\n",
       "\t<tr><td>1957      </td><td>Africa    </td><td>41.26635  </td><td> 1385.236 </td><td> 72032.28 </td><td> 264837738</td></tr>\n",
       "\t<tr><td>1957      </td><td>Americas  </td><td>55.96028  </td><td> 4616.044 </td><td>115401.09 </td><td> 386953916</td></tr>\n",
       "\t<tr><td>1957      </td><td>Asia      </td><td>49.31854  </td><td> 5787.733 </td><td>190995.19 </td><td>1562780599</td></tr>\n",
       "\t<tr><td>1957      </td><td>Europe    </td><td>66.70307  </td><td> 6963.013 </td><td>208890.38 </td><td> 437890351</td></tr>\n",
       "\t<tr><td>1957      </td><td>Oceania   </td><td>70.29500  </td><td>11598.522 </td><td> 23197.04 </td><td>  11941976</td></tr>\n",
       "\t<tr><td>1962      </td><td>Africa    </td><td>43.31944  </td><td> 1598.079 </td><td> 83100.10 </td><td> 296516865</td></tr>\n",
       "\t<tr><td>1962      </td><td>Americas  </td><td>58.39876  </td><td> 4901.542 </td><td>122538.55 </td><td> 433270254</td></tr>\n",
       "\t<tr><td>1962      </td><td>Asia      </td><td>51.56322  </td><td> 5729.370 </td><td>189069.20 </td><td>1696357182</td></tr>\n",
       "\t<tr><td>1962      </td><td>Europe    </td><td>68.53923  </td><td> 8365.487 </td><td>250964.60 </td><td> 460355155</td></tr>\n",
       "\t<tr><td>1962      </td><td>Oceania   </td><td>71.08500  </td><td>12696.452 </td><td> 25392.90 </td><td>  13283518</td></tr>\n",
       "\t<tr><td>1967      </td><td>Africa    </td><td>45.33454  </td><td> 2050.364 </td><td>106618.92 </td><td> 335289489</td></tr>\n",
       "\t<tr><td>1967      </td><td>Americas  </td><td>60.41092  </td><td> 5668.253 </td><td>141706.34 </td><td> 480746623</td></tr>\n",
       "\t<tr><td>1967      </td><td>Asia      </td><td>54.66364  </td><td> 5971.173 </td><td>197048.72 </td><td>1905662900</td></tr>\n",
       "\t<tr><td>1967      </td><td>Europe    </td><td>69.73760  </td><td>10143.824 </td><td>304314.71 </td><td> 481178958</td></tr>\n",
       "\t<tr><td>1967      </td><td>Oceania   </td><td>71.31000  </td><td>14495.022 </td><td> 28990.04 </td><td>  14600414</td></tr>\n",
       "\t<tr><td>1972      </td><td>Africa    </td><td>47.45094  </td><td> 2339.616 </td><td>121660.02 </td><td> 379879541</td></tr>\n",
       "\t<tr><td>1972      </td><td>Americas  </td><td>62.39492  </td><td> 6491.334 </td><td>162283.35 </td><td> 529384210</td></tr>\n",
       "\t<tr><td>1972      </td><td>Asia      </td><td>57.31927  </td><td> 8187.469 </td><td>270186.47 </td><td>2150972248</td></tr>\n",
       "\t<tr><td>1972      </td><td>Europe    </td><td>70.77503  </td><td>12479.575 </td><td>374387.26 </td><td> 500635059</td></tr>\n",
       "\t<tr><td>1972      </td><td>Oceania   </td><td>71.91000  </td><td>16417.333 </td><td> 32834.67 </td><td>  16106100</td></tr>\n",
       "\t<tr><td>1977      </td><td>Africa    </td><td>49.58042  </td><td> 2585.939 </td><td>134468.80 </td><td> 433061021</td></tr>\n",
       "\t<tr><td>1977      </td><td>Americas  </td><td>64.39156  </td><td> 7352.007 </td><td>183800.18 </td><td> 578067699</td></tr>\n",
       "\t<tr><td>1977      </td><td>Asia      </td><td>59.61056  </td><td> 7791.314 </td><td>257113.36 </td><td>2384513556</td></tr>\n",
       "\t<tr><td>1977      </td><td>Europe    </td><td>71.93777  </td><td>14283.979 </td><td>428519.37 </td><td> 517164531</td></tr>\n",
       "\t<tr><td>1977      </td><td>Oceania   </td><td>72.85500  </td><td>17283.958 </td><td> 34567.92 </td><td>  17239000</td></tr>\n",
       "\t<tr><td>1982      </td><td>Africa    </td><td>51.59287  </td><td> 2481.593 </td><td>129042.83 </td><td> 499348587</td></tr>\n",
       "\t<tr><td>1982      </td><td>Americas  </td><td>66.22884  </td><td> 7506.737 </td><td>187668.43 </td><td> 630290920</td></tr>\n",
       "\t<tr><td>1982      </td><td>Asia      </td><td>62.61794  </td><td> 7434.135 </td><td>245326.46 </td><td>2610135582</td></tr>\n",
       "\t<tr><td>1982      </td><td>Europe    </td><td>72.80640  </td><td>15617.897 </td><td>468536.90 </td><td> 531266901</td></tr>\n",
       "\t<tr><td>1982      </td><td>Oceania   </td><td>74.29000  </td><td>18554.710 </td><td> 37109.42 </td><td>  18394850</td></tr>\n",
       "\t<tr><td>1987      </td><td>Africa    </td><td>53.34479  </td><td> 2282.669 </td><td>118698.79 </td><td> 574834110</td></tr>\n",
       "\t<tr><td>1987      </td><td>Americas  </td><td>68.09072  </td><td> 7793.400 </td><td>194835.01 </td><td> 682753971</td></tr>\n",
       "\t<tr><td>1987      </td><td>Asia      </td><td>64.85118  </td><td> 7608.227 </td><td>251071.47 </td><td>2871220762</td></tr>\n",
       "\t<tr><td>1987      </td><td>Europe    </td><td>73.64217  </td><td>17214.311 </td><td>516429.32 </td><td> 543094160</td></tr>\n",
       "\t<tr><td>1987      </td><td>Oceania   </td><td>75.32000  </td><td>20448.040 </td><td> 40896.08 </td><td>  19574415</td></tr>\n",
       "\t<tr><td>1992      </td><td>Africa    </td><td>53.62958  </td><td> 2281.810 </td><td>118654.14 </td><td> 659081517</td></tr>\n",
       "\t<tr><td>1992      </td><td>Americas  </td><td>69.56836  </td><td> 8044.934 </td><td>201123.36 </td><td> 739274104</td></tr>\n",
       "\t<tr><td>1992      </td><td>Asia      </td><td>66.53721  </td><td> 8639.690 </td><td>285109.78 </td><td>3133292191</td></tr>\n",
       "\t<tr><td>1992      </td><td>Europe    </td><td>74.44010  </td><td>17061.568 </td><td>511847.04 </td><td> 558142797</td></tr>\n",
       "\t<tr><td>1992      </td><td>Oceania   </td><td>76.94500  </td><td>20894.046 </td><td> 41788.09 </td><td>  20919651</td></tr>\n",
       "\t<tr><td>1997      </td><td>Africa    </td><td>53.59827  </td><td> 2378.760 </td><td>123695.50 </td><td> 743832984</td></tr>\n",
       "\t<tr><td>1997      </td><td>Americas  </td><td>71.15048  </td><td> 8889.301 </td><td>222232.52 </td><td> 796900410</td></tr>\n",
       "\t<tr><td>1997      </td><td>Asia      </td><td>68.02052  </td><td> 9834.093 </td><td>324525.08 </td><td>3383285500</td></tr>\n",
       "\t<tr><td>1997      </td><td>Europe    </td><td>75.50517  </td><td>19076.782 </td><td>572303.45 </td><td> 568944148</td></tr>\n",
       "\t<tr><td>1997      </td><td>Oceania   </td><td>78.19000  </td><td>24024.175 </td><td> 48048.35 </td><td>  22241430</td></tr>\n",
       "\t<tr><td>2002      </td><td>Africa    </td><td>53.32523  </td><td> 2599.385 </td><td>135168.03 </td><td> 833723916</td></tr>\n",
       "\t<tr><td>2002      </td><td>Americas  </td><td>72.42204  </td><td> 9287.677 </td><td>232191.93 </td><td> 849772762</td></tr>\n",
       "\t<tr><td>2002      </td><td>Asia      </td><td>69.23388  </td><td>10174.090 </td><td>335744.98 </td><td>3601802203</td></tr>\n",
       "\t<tr><td>2002      </td><td>Europe    </td><td>76.70060  </td><td>21711.732 </td><td>651351.97 </td><td> 578223869</td></tr>\n",
       "\t<tr><td>2002      </td><td>Oceania   </td><td>79.74000  </td><td>26938.778 </td><td> 53877.56 </td><td>  23454829</td></tr>\n",
       "\t<tr><td>2007      </td><td>Africa    </td><td>54.80604  </td><td> 3089.033 </td><td>160629.70 </td><td> 929539692</td></tr>\n",
       "\t<tr><td>2007      </td><td>Americas  </td><td>73.60812  </td><td>11003.032 </td><td>275075.79 </td><td> 898871184</td></tr>\n",
       "\t<tr><td>2007      </td><td>Asia      </td><td>70.72848  </td><td>12473.027 </td><td>411609.89 </td><td>3811953827</td></tr>\n",
       "\t<tr><td>2007      </td><td>Europe    </td><td>77.64860  </td><td>25054.482 </td><td>751634.45 </td><td> 586098529</td></tr>\n",
       "\t<tr><td>2007      </td><td>Oceania   </td><td>80.71950  </td><td>29810.188 </td><td> 59620.38 </td><td>  24549947</td></tr>\n",
       "</tbody>\n",
       "</table>\n"
      ],
      "text/latex": [
       "\\begin{tabular}{r|llllll}\n",
       " year & continent & meanLifeExp & meanGdpPercap & totalGdpPercap & totalPop\\\\\n",
       "\\hline\n",
       "\t 1952       & Africa     & 39.13550   &  1252.572  &  65133.77  &  237640501\\\\\n",
       "\t 1952       & Americas   & 53.27984   &  4079.063  & 101976.56  &  345152446\\\\\n",
       "\t 1952       & Asia       & 46.31439   &  5195.484  & 171450.97  & 1395357351\\\\\n",
       "\t 1952       & Europe     & 64.40850   &  5661.057  & 169831.72  &  418120846\\\\\n",
       "\t 1952       & Oceania    & 69.25500   & 10298.086  &  20596.17  &   10686006\\\\\n",
       "\t 1957       & Africa     & 41.26635   &  1385.236  &  72032.28  &  264837738\\\\\n",
       "\t 1957       & Americas   & 55.96028   &  4616.044  & 115401.09  &  386953916\\\\\n",
       "\t 1957       & Asia       & 49.31854   &  5787.733  & 190995.19  & 1562780599\\\\\n",
       "\t 1957       & Europe     & 66.70307   &  6963.013  & 208890.38  &  437890351\\\\\n",
       "\t 1957       & Oceania    & 70.29500   & 11598.522  &  23197.04  &   11941976\\\\\n",
       "\t 1962       & Africa     & 43.31944   &  1598.079  &  83100.10  &  296516865\\\\\n",
       "\t 1962       & Americas   & 58.39876   &  4901.542  & 122538.55  &  433270254\\\\\n",
       "\t 1962       & Asia       & 51.56322   &  5729.370  & 189069.20  & 1696357182\\\\\n",
       "\t 1962       & Europe     & 68.53923   &  8365.487  & 250964.60  &  460355155\\\\\n",
       "\t 1962       & Oceania    & 71.08500   & 12696.452  &  25392.90  &   13283518\\\\\n",
       "\t 1967       & Africa     & 45.33454   &  2050.364  & 106618.92  &  335289489\\\\\n",
       "\t 1967       & Americas   & 60.41092   &  5668.253  & 141706.34  &  480746623\\\\\n",
       "\t 1967       & Asia       & 54.66364   &  5971.173  & 197048.72  & 1905662900\\\\\n",
       "\t 1967       & Europe     & 69.73760   & 10143.824  & 304314.71  &  481178958\\\\\n",
       "\t 1967       & Oceania    & 71.31000   & 14495.022  &  28990.04  &   14600414\\\\\n",
       "\t 1972       & Africa     & 47.45094   &  2339.616  & 121660.02  &  379879541\\\\\n",
       "\t 1972       & Americas   & 62.39492   &  6491.334  & 162283.35  &  529384210\\\\\n",
       "\t 1972       & Asia       & 57.31927   &  8187.469  & 270186.47  & 2150972248\\\\\n",
       "\t 1972       & Europe     & 70.77503   & 12479.575  & 374387.26  &  500635059\\\\\n",
       "\t 1972       & Oceania    & 71.91000   & 16417.333  &  32834.67  &   16106100\\\\\n",
       "\t 1977       & Africa     & 49.58042   &  2585.939  & 134468.80  &  433061021\\\\\n",
       "\t 1977       & Americas   & 64.39156   &  7352.007  & 183800.18  &  578067699\\\\\n",
       "\t 1977       & Asia       & 59.61056   &  7791.314  & 257113.36  & 2384513556\\\\\n",
       "\t 1977       & Europe     & 71.93777   & 14283.979  & 428519.37  &  517164531\\\\\n",
       "\t 1977       & Oceania    & 72.85500   & 17283.958  &  34567.92  &   17239000\\\\\n",
       "\t 1982       & Africa     & 51.59287   &  2481.593  & 129042.83  &  499348587\\\\\n",
       "\t 1982       & Americas   & 66.22884   &  7506.737  & 187668.43  &  630290920\\\\\n",
       "\t 1982       & Asia       & 62.61794   &  7434.135  & 245326.46  & 2610135582\\\\\n",
       "\t 1982       & Europe     & 72.80640   & 15617.897  & 468536.90  &  531266901\\\\\n",
       "\t 1982       & Oceania    & 74.29000   & 18554.710  &  37109.42  &   18394850\\\\\n",
       "\t 1987       & Africa     & 53.34479   &  2282.669  & 118698.79  &  574834110\\\\\n",
       "\t 1987       & Americas   & 68.09072   &  7793.400  & 194835.01  &  682753971\\\\\n",
       "\t 1987       & Asia       & 64.85118   &  7608.227  & 251071.47  & 2871220762\\\\\n",
       "\t 1987       & Europe     & 73.64217   & 17214.311  & 516429.32  &  543094160\\\\\n",
       "\t 1987       & Oceania    & 75.32000   & 20448.040  &  40896.08  &   19574415\\\\\n",
       "\t 1992       & Africa     & 53.62958   &  2281.810  & 118654.14  &  659081517\\\\\n",
       "\t 1992       & Americas   & 69.56836   &  8044.934  & 201123.36  &  739274104\\\\\n",
       "\t 1992       & Asia       & 66.53721   &  8639.690  & 285109.78  & 3133292191\\\\\n",
       "\t 1992       & Europe     & 74.44010   & 17061.568  & 511847.04  &  558142797\\\\\n",
       "\t 1992       & Oceania    & 76.94500   & 20894.046  &  41788.09  &   20919651\\\\\n",
       "\t 1997       & Africa     & 53.59827   &  2378.760  & 123695.50  &  743832984\\\\\n",
       "\t 1997       & Americas   & 71.15048   &  8889.301  & 222232.52  &  796900410\\\\\n",
       "\t 1997       & Asia       & 68.02052   &  9834.093  & 324525.08  & 3383285500\\\\\n",
       "\t 1997       & Europe     & 75.50517   & 19076.782  & 572303.45  &  568944148\\\\\n",
       "\t 1997       & Oceania    & 78.19000   & 24024.175  &  48048.35  &   22241430\\\\\n",
       "\t 2002       & Africa     & 53.32523   &  2599.385  & 135168.03  &  833723916\\\\\n",
       "\t 2002       & Americas   & 72.42204   &  9287.677  & 232191.93  &  849772762\\\\\n",
       "\t 2002       & Asia       & 69.23388   & 10174.090  & 335744.98  & 3601802203\\\\\n",
       "\t 2002       & Europe     & 76.70060   & 21711.732  & 651351.97  &  578223869\\\\\n",
       "\t 2002       & Oceania    & 79.74000   & 26938.778  &  53877.56  &   23454829\\\\\n",
       "\t 2007       & Africa     & 54.80604   &  3089.033  & 160629.70  &  929539692\\\\\n",
       "\t 2007       & Americas   & 73.60812   & 11003.032  & 275075.79  &  898871184\\\\\n",
       "\t 2007       & Asia       & 70.72848   & 12473.027  & 411609.89  & 3811953827\\\\\n",
       "\t 2007       & Europe     & 77.64860   & 25054.482  & 751634.45  &  586098529\\\\\n",
       "\t 2007       & Oceania    & 80.71950   & 29810.188  &  59620.38  &   24549947\\\\\n",
       "\\end{tabular}\n"
      ],
      "text/markdown": [
       "\n",
       "| year | continent | meanLifeExp | meanGdpPercap | totalGdpPercap | totalPop |\n",
       "|---|---|---|---|---|---|\n",
       "| 1952       | Africa     | 39.13550   |  1252.572  |  65133.77  |  237640501 |\n",
       "| 1952       | Americas   | 53.27984   |  4079.063  | 101976.56  |  345152446 |\n",
       "| 1952       | Asia       | 46.31439   |  5195.484  | 171450.97  | 1395357351 |\n",
       "| 1952       | Europe     | 64.40850   |  5661.057  | 169831.72  |  418120846 |\n",
       "| 1952       | Oceania    | 69.25500   | 10298.086  |  20596.17  |   10686006 |\n",
       "| 1957       | Africa     | 41.26635   |  1385.236  |  72032.28  |  264837738 |\n",
       "| 1957       | Americas   | 55.96028   |  4616.044  | 115401.09  |  386953916 |\n",
       "| 1957       | Asia       | 49.31854   |  5787.733  | 190995.19  | 1562780599 |\n",
       "| 1957       | Europe     | 66.70307   |  6963.013  | 208890.38  |  437890351 |\n",
       "| 1957       | Oceania    | 70.29500   | 11598.522  |  23197.04  |   11941976 |\n",
       "| 1962       | Africa     | 43.31944   |  1598.079  |  83100.10  |  296516865 |\n",
       "| 1962       | Americas   | 58.39876   |  4901.542  | 122538.55  |  433270254 |\n",
       "| 1962       | Asia       | 51.56322   |  5729.370  | 189069.20  | 1696357182 |\n",
       "| 1962       | Europe     | 68.53923   |  8365.487  | 250964.60  |  460355155 |\n",
       "| 1962       | Oceania    | 71.08500   | 12696.452  |  25392.90  |   13283518 |\n",
       "| 1967       | Africa     | 45.33454   |  2050.364  | 106618.92  |  335289489 |\n",
       "| 1967       | Americas   | 60.41092   |  5668.253  | 141706.34  |  480746623 |\n",
       "| 1967       | Asia       | 54.66364   |  5971.173  | 197048.72  | 1905662900 |\n",
       "| 1967       | Europe     | 69.73760   | 10143.824  | 304314.71  |  481178958 |\n",
       "| 1967       | Oceania    | 71.31000   | 14495.022  |  28990.04  |   14600414 |\n",
       "| 1972       | Africa     | 47.45094   |  2339.616  | 121660.02  |  379879541 |\n",
       "| 1972       | Americas   | 62.39492   |  6491.334  | 162283.35  |  529384210 |\n",
       "| 1972       | Asia       | 57.31927   |  8187.469  | 270186.47  | 2150972248 |\n",
       "| 1972       | Europe     | 70.77503   | 12479.575  | 374387.26  |  500635059 |\n",
       "| 1972       | Oceania    | 71.91000   | 16417.333  |  32834.67  |   16106100 |\n",
       "| 1977       | Africa     | 49.58042   |  2585.939  | 134468.80  |  433061021 |\n",
       "| 1977       | Americas   | 64.39156   |  7352.007  | 183800.18  |  578067699 |\n",
       "| 1977       | Asia       | 59.61056   |  7791.314  | 257113.36  | 2384513556 |\n",
       "| 1977       | Europe     | 71.93777   | 14283.979  | 428519.37  |  517164531 |\n",
       "| 1977       | Oceania    | 72.85500   | 17283.958  |  34567.92  |   17239000 |\n",
       "| 1982       | Africa     | 51.59287   |  2481.593  | 129042.83  |  499348587 |\n",
       "| 1982       | Americas   | 66.22884   |  7506.737  | 187668.43  |  630290920 |\n",
       "| 1982       | Asia       | 62.61794   |  7434.135  | 245326.46  | 2610135582 |\n",
       "| 1982       | Europe     | 72.80640   | 15617.897  | 468536.90  |  531266901 |\n",
       "| 1982       | Oceania    | 74.29000   | 18554.710  |  37109.42  |   18394850 |\n",
       "| 1987       | Africa     | 53.34479   |  2282.669  | 118698.79  |  574834110 |\n",
       "| 1987       | Americas   | 68.09072   |  7793.400  | 194835.01  |  682753971 |\n",
       "| 1987       | Asia       | 64.85118   |  7608.227  | 251071.47  | 2871220762 |\n",
       "| 1987       | Europe     | 73.64217   | 17214.311  | 516429.32  |  543094160 |\n",
       "| 1987       | Oceania    | 75.32000   | 20448.040  |  40896.08  |   19574415 |\n",
       "| 1992       | Africa     | 53.62958   |  2281.810  | 118654.14  |  659081517 |\n",
       "| 1992       | Americas   | 69.56836   |  8044.934  | 201123.36  |  739274104 |\n",
       "| 1992       | Asia       | 66.53721   |  8639.690  | 285109.78  | 3133292191 |\n",
       "| 1992       | Europe     | 74.44010   | 17061.568  | 511847.04  |  558142797 |\n",
       "| 1992       | Oceania    | 76.94500   | 20894.046  |  41788.09  |   20919651 |\n",
       "| 1997       | Africa     | 53.59827   |  2378.760  | 123695.50  |  743832984 |\n",
       "| 1997       | Americas   | 71.15048   |  8889.301  | 222232.52  |  796900410 |\n",
       "| 1997       | Asia       | 68.02052   |  9834.093  | 324525.08  | 3383285500 |\n",
       "| 1997       | Europe     | 75.50517   | 19076.782  | 572303.45  |  568944148 |\n",
       "| 1997       | Oceania    | 78.19000   | 24024.175  |  48048.35  |   22241430 |\n",
       "| 2002       | Africa     | 53.32523   |  2599.385  | 135168.03  |  833723916 |\n",
       "| 2002       | Americas   | 72.42204   |  9287.677  | 232191.93  |  849772762 |\n",
       "| 2002       | Asia       | 69.23388   | 10174.090  | 335744.98  | 3601802203 |\n",
       "| 2002       | Europe     | 76.70060   | 21711.732  | 651351.97  |  578223869 |\n",
       "| 2002       | Oceania    | 79.74000   | 26938.778  |  53877.56  |   23454829 |\n",
       "| 2007       | Africa     | 54.80604   |  3089.033  | 160629.70  |  929539692 |\n",
       "| 2007       | Americas   | 73.60812   | 11003.032  | 275075.79  |  898871184 |\n",
       "| 2007       | Asia       | 70.72848   | 12473.027  | 411609.89  | 3811953827 |\n",
       "| 2007       | Europe     | 77.64860   | 25054.482  | 751634.45  |  586098529 |\n",
       "| 2007       | Oceania    | 80.71950   | 29810.188  |  59620.38  |   24549947 |\n",
       "\n"
      ],
      "text/plain": [
       "   year continent meanLifeExp meanGdpPercap totalGdpPercap totalPop  \n",
       "1  1952 Africa    39.13550     1252.572      65133.77       237640501\n",
       "2  1952 Americas  53.27984     4079.063     101976.56       345152446\n",
       "3  1952 Asia      46.31439     5195.484     171450.97      1395357351\n",
       "4  1952 Europe    64.40850     5661.057     169831.72       418120846\n",
       "5  1952 Oceania   69.25500    10298.086      20596.17        10686006\n",
       "6  1957 Africa    41.26635     1385.236      72032.28       264837738\n",
       "7  1957 Americas  55.96028     4616.044     115401.09       386953916\n",
       "8  1957 Asia      49.31854     5787.733     190995.19      1562780599\n",
       "9  1957 Europe    66.70307     6963.013     208890.38       437890351\n",
       "10 1957 Oceania   70.29500    11598.522      23197.04        11941976\n",
       "11 1962 Africa    43.31944     1598.079      83100.10       296516865\n",
       "12 1962 Americas  58.39876     4901.542     122538.55       433270254\n",
       "13 1962 Asia      51.56322     5729.370     189069.20      1696357182\n",
       "14 1962 Europe    68.53923     8365.487     250964.60       460355155\n",
       "15 1962 Oceania   71.08500    12696.452      25392.90        13283518\n",
       "16 1967 Africa    45.33454     2050.364     106618.92       335289489\n",
       "17 1967 Americas  60.41092     5668.253     141706.34       480746623\n",
       "18 1967 Asia      54.66364     5971.173     197048.72      1905662900\n",
       "19 1967 Europe    69.73760    10143.824     304314.71       481178958\n",
       "20 1967 Oceania   71.31000    14495.022      28990.04        14600414\n",
       "21 1972 Africa    47.45094     2339.616     121660.02       379879541\n",
       "22 1972 Americas  62.39492     6491.334     162283.35       529384210\n",
       "23 1972 Asia      57.31927     8187.469     270186.47      2150972248\n",
       "24 1972 Europe    70.77503    12479.575     374387.26       500635059\n",
       "25 1972 Oceania   71.91000    16417.333      32834.67        16106100\n",
       "26 1977 Africa    49.58042     2585.939     134468.80       433061021\n",
       "27 1977 Americas  64.39156     7352.007     183800.18       578067699\n",
       "28 1977 Asia      59.61056     7791.314     257113.36      2384513556\n",
       "29 1977 Europe    71.93777    14283.979     428519.37       517164531\n",
       "30 1977 Oceania   72.85500    17283.958      34567.92        17239000\n",
       "31 1982 Africa    51.59287     2481.593     129042.83       499348587\n",
       "32 1982 Americas  66.22884     7506.737     187668.43       630290920\n",
       "33 1982 Asia      62.61794     7434.135     245326.46      2610135582\n",
       "34 1982 Europe    72.80640    15617.897     468536.90       531266901\n",
       "35 1982 Oceania   74.29000    18554.710      37109.42        18394850\n",
       "36 1987 Africa    53.34479     2282.669     118698.79       574834110\n",
       "37 1987 Americas  68.09072     7793.400     194835.01       682753971\n",
       "38 1987 Asia      64.85118     7608.227     251071.47      2871220762\n",
       "39 1987 Europe    73.64217    17214.311     516429.32       543094160\n",
       "40 1987 Oceania   75.32000    20448.040      40896.08        19574415\n",
       "41 1992 Africa    53.62958     2281.810     118654.14       659081517\n",
       "42 1992 Americas  69.56836     8044.934     201123.36       739274104\n",
       "43 1992 Asia      66.53721     8639.690     285109.78      3133292191\n",
       "44 1992 Europe    74.44010    17061.568     511847.04       558142797\n",
       "45 1992 Oceania   76.94500    20894.046      41788.09        20919651\n",
       "46 1997 Africa    53.59827     2378.760     123695.50       743832984\n",
       "47 1997 Americas  71.15048     8889.301     222232.52       796900410\n",
       "48 1997 Asia      68.02052     9834.093     324525.08      3383285500\n",
       "49 1997 Europe    75.50517    19076.782     572303.45       568944148\n",
       "50 1997 Oceania   78.19000    24024.175      48048.35        22241430\n",
       "51 2002 Africa    53.32523     2599.385     135168.03       833723916\n",
       "52 2002 Americas  72.42204     9287.677     232191.93       849772762\n",
       "53 2002 Asia      69.23388    10174.090     335744.98      3601802203\n",
       "54 2002 Europe    76.70060    21711.732     651351.97       578223869\n",
       "55 2002 Oceania   79.74000    26938.778      53877.56        23454829\n",
       "56 2007 Africa    54.80604     3089.033     160629.70       929539692\n",
       "57 2007 Americas  73.60812    11003.032     275075.79       898871184\n",
       "58 2007 Asia      70.72848    12473.027     411609.89      3811953827\n",
       "59 2007 Europe    77.64860    25054.482     751634.45       586098529\n",
       "60 2007 Oceania   80.71950    29810.188      59620.38        24549947"
      ]
     },
     "metadata": {},
     "output_type": "display_data"
    }
   ],
   "source": [
    "gapminder %>%         # group_by can select groups by more than one variable\n",
    "    group_by(year,continent) %>% \n",
    "        summarize(meanLifeExp = mean(lifeExp), \n",
    "                  meanGdpPercap = mean(gdpPercap),\n",
    "                  totalGdpPercap = sum(gdpPercap), \n",
    "                  totalPop = sum(as.numeric(pop)))"
   ]
  },
  {
   "cell_type": "markdown",
   "metadata": {},
   "source": [
    "### Visualizing \n",
    "#### Scatter plots"
   ]
  },
  {
   "cell_type": "code",
   "execution_count": 63,
   "metadata": {},
   "outputs": [
    {
     "data": {
      "text/html": [
       "<table>\n",
       "<thead><tr><th scope=col>year</th><th scope=col>meanLifeExp</th><th scope=col>total_pop</th></tr></thead>\n",
       "<tbody>\n",
       "\t<tr><td>1952      </td><td>49.05762  </td><td>2406957150</td></tr>\n",
       "\t<tr><td>1957      </td><td>51.50740  </td><td>2664404580</td></tr>\n",
       "\t<tr><td>1962      </td><td>53.60925  </td><td>2899782974</td></tr>\n",
       "\t<tr><td>1967      </td><td>55.67829  </td><td>3217478384</td></tr>\n",
       "\t<tr><td>1972      </td><td>57.64739  </td><td>3576977158</td></tr>\n",
       "\t<tr><td>1977      </td><td>59.57016  </td><td>3930045807</td></tr>\n",
       "\t<tr><td>1982      </td><td>61.53320  </td><td>4289436840</td></tr>\n",
       "\t<tr><td>1987      </td><td>63.21261  </td><td>4691477418</td></tr>\n",
       "\t<tr><td>1992      </td><td>64.16034  </td><td>5110710260</td></tr>\n",
       "\t<tr><td>1997      </td><td>65.01468  </td><td>5515204472</td></tr>\n",
       "\t<tr><td>2002      </td><td>65.69492  </td><td>5886977579</td></tr>\n",
       "\t<tr><td>2007      </td><td>67.00742  </td><td>6251013179</td></tr>\n",
       "</tbody>\n",
       "</table>\n"
      ],
      "text/latex": [
       "\\begin{tabular}{r|lll}\n",
       " year & meanLifeExp & total\\_pop\\\\\n",
       "\\hline\n",
       "\t 1952       & 49.05762   & 2406957150\\\\\n",
       "\t 1957       & 51.50740   & 2664404580\\\\\n",
       "\t 1962       & 53.60925   & 2899782974\\\\\n",
       "\t 1967       & 55.67829   & 3217478384\\\\\n",
       "\t 1972       & 57.64739   & 3576977158\\\\\n",
       "\t 1977       & 59.57016   & 3930045807\\\\\n",
       "\t 1982       & 61.53320   & 4289436840\\\\\n",
       "\t 1987       & 63.21261   & 4691477418\\\\\n",
       "\t 1992       & 64.16034   & 5110710260\\\\\n",
       "\t 1997       & 65.01468   & 5515204472\\\\\n",
       "\t 2002       & 65.69492   & 5886977579\\\\\n",
       "\t 2007       & 67.00742   & 6251013179\\\\\n",
       "\\end{tabular}\n"
      ],
      "text/markdown": [
       "\n",
       "| year | meanLifeExp | total_pop |\n",
       "|---|---|---|\n",
       "| 1952       | 49.05762   | 2406957150 |\n",
       "| 1957       | 51.50740   | 2664404580 |\n",
       "| 1962       | 53.60925   | 2899782974 |\n",
       "| 1967       | 55.67829   | 3217478384 |\n",
       "| 1972       | 57.64739   | 3576977158 |\n",
       "| 1977       | 59.57016   | 3930045807 |\n",
       "| 1982       | 61.53320   | 4289436840 |\n",
       "| 1987       | 63.21261   | 4691477418 |\n",
       "| 1992       | 64.16034   | 5110710260 |\n",
       "| 1997       | 65.01468   | 5515204472 |\n",
       "| 2002       | 65.69492   | 5886977579 |\n",
       "| 2007       | 67.00742   | 6251013179 |\n",
       "\n"
      ],
      "text/plain": [
       "   year meanLifeExp total_pop \n",
       "1  1952 49.05762    2406957150\n",
       "2  1957 51.50740    2664404580\n",
       "3  1962 53.60925    2899782974\n",
       "4  1967 55.67829    3217478384\n",
       "5  1972 57.64739    3576977158\n",
       "6  1977 59.57016    3930045807\n",
       "7  1982 61.53320    4289436840\n",
       "8  1987 63.21261    4691477418\n",
       "9  1992 64.16034    5110710260\n",
       "10 1997 65.01468    5515204472\n",
       "11 2002 65.69492    5886977579\n",
       "12 2007 67.00742    6251013179"
      ]
     },
     "metadata": {},
     "output_type": "display_data"
    }
   ],
   "source": [
    "by_year <- gapminder %>% # create a new DataFrame \"by_year\" which conteins the mean of lifeExp and total_pop for each year\n",
    "    group_by(year) %>% # \"group_by\" most be use before summarize()\n",
    "        summarize(meanLifeExp = mean(lifeExp), total_pop = sum(as.numeric(pop)))\n",
    "by_year"
   ]
  },
  {
   "cell_type": "code",
   "execution_count": 68,
   "metadata": {},
   "outputs": [
    {
     "data": {
      "image/png": "[encoded data removed]",
      "text/plain": [
       "plot without title"
      ]
     },
     "metadata": {},
     "output_type": "display_data"
    }
   ],
   "source": [
    "ggplot(by_year, aes(x=year,y=total_pop)) + geom_point() + # ploting the new DataFrame against the time\n",
    "                                           expand_limits(y=0) # determining the limit for the 'y' axes"
   ]
  },
  {
   "cell_type": "code",
   "execution_count": 70,
   "metadata": {},
   "outputs": [
    {
     "data": {
      "text/html": [
       "<table>\n",
       "<thead><tr><th scope=col>year</th><th scope=col>continent</th><th scope=col>meanLifeExp</th><th scope=col>total_pop</th></tr></thead>\n",
       "<tbody>\n",
       "\t<tr><td>1952      </td><td>Africa    </td><td>39.13550  </td><td> 237640501</td></tr>\n",
       "\t<tr><td>1952      </td><td>Americas  </td><td>53.27984  </td><td> 345152446</td></tr>\n",
       "\t<tr><td>1952      </td><td>Asia      </td><td>46.31439  </td><td>1395357351</td></tr>\n",
       "\t<tr><td>1952      </td><td>Europe    </td><td>64.40850  </td><td> 418120846</td></tr>\n",
       "\t<tr><td>1952      </td><td>Oceania   </td><td>69.25500  </td><td>  10686006</td></tr>\n",
       "\t<tr><td>1957      </td><td>Africa    </td><td>41.26635  </td><td> 264837738</td></tr>\n",
       "</tbody>\n",
       "</table>\n"
      ],
      "text/latex": [
       "\\begin{tabular}{r|llll}\n",
       " year & continent & meanLifeExp & total\\_pop\\\\\n",
       "\\hline\n",
       "\t 1952       & Africa     & 39.13550   &  237640501\\\\\n",
       "\t 1952       & Americas   & 53.27984   &  345152446\\\\\n",
       "\t 1952       & Asia       & 46.31439   & 1395357351\\\\\n",
       "\t 1952       & Europe     & 64.40850   &  418120846\\\\\n",
       "\t 1952       & Oceania    & 69.25500   &   10686006\\\\\n",
       "\t 1957       & Africa     & 41.26635   &  264837738\\\\\n",
       "\\end{tabular}\n"
      ],
      "text/markdown": [
       "\n",
       "| year | continent | meanLifeExp | total_pop |\n",
       "|---|---|---|---|\n",
       "| 1952       | Africa     | 39.13550   |  237640501 |\n",
       "| 1952       | Americas   | 53.27984   |  345152446 |\n",
       "| 1952       | Asia       | 46.31439   | 1395357351 |\n",
       "| 1952       | Europe     | 64.40850   |  418120846 |\n",
       "| 1952       | Oceania    | 69.25500   |   10686006 |\n",
       "| 1957       | Africa     | 41.26635   |  264837738 |\n",
       "\n"
      ],
      "text/plain": [
       "  year continent meanLifeExp total_pop \n",
       "1 1952 Africa    39.13550     237640501\n",
       "2 1952 Americas  53.27984     345152446\n",
       "3 1952 Asia      46.31439    1395357351\n",
       "4 1952 Europe    64.40850     418120846\n",
       "5 1952 Oceania   69.25500      10686006\n",
       "6 1957 Africa    41.26635     264837738"
      ]
     },
     "metadata": {},
     "output_type": "display_data"
    }
   ],
   "source": [
    "by_year_cont <- gapminder %>% # create a new DataFrame \"by_year\" which conteins the mean of lifeExp and total_pop for each year\n",
    "    group_by(year,continent) %>% # \"group_by\" most be use before summarize()\n",
    "        summarize(meanLifeExp = mean(lifeExp), total_pop = sum(as.numeric(pop)))\n",
    "head(by_year_cont)"
   ]
  },
  {
   "cell_type": "code",
   "execution_count": 72,
   "metadata": {},
   "outputs": [
    {
     "data": {
      "image/png": "[encoded data removed]",
      "text/plain": [
       "plot without title"
      ]
     },
     "metadata": {},
     "output_type": "display_data"
    }
   ],
   "source": [
    "8ggplot(by_year_cont, aes(x=year,y=total_pop,color=continent)) + geom_point() + expand_limits(y=0)"
   ]
  },
  {
   "cell_type": "markdown",
   "metadata": {},
   "source": [
    "#### Line plots"
   ]
  },
  {
   "cell_type": "code",
   "execution_count": 77,
   "metadata": {},
   "outputs": [
    {
     "data": {
      "image/png": "[encoded data removed]",
      "text/plain": [
       "plot without title"
      ]
     },
     "metadata": {},
     "output_type": "display_data"
    }
   ],
   "source": [
    "ggplot(by_year_cont, aes(x=year,y=total_pop,color=continent)) + \n",
    "        geom_line(lwd = 1) + # changing the \"point()\" for \"line()\"\n",
    "        expand_limits(y=0) "
   ]
  },
  {
   "cell_type": "markdown",
   "metadata": {},
   "source": [
    "### Bar Plot"
   ]
  },
  {
   "cell_type": "code",
   "execution_count": 92,
   "metadata": {},
   "outputs": [
    {
     "data": {
      "text/html": [
       "<table>\n",
       "<thead><tr><th scope=col>country</th><th scope=col>continent</th><th scope=col>year</th><th scope=col>lifeExp</th><th scope=col>pop</th><th scope=col>gdpPercap</th></tr></thead>\n",
       "<tbody>\n",
       "\t<tr><td>Australia  </td><td>Oceania    </td><td>2007       </td><td>81.235     </td><td>20434176   </td><td>34435.37   </td></tr>\n",
       "\t<tr><td>New Zealand</td><td>Oceania    </td><td>2007       </td><td>80.204     </td><td> 4115771   </td><td>25185.01   </td></tr>\n",
       "</tbody>\n",
       "</table>\n"
      ],
      "text/latex": [
       "\\begin{tabular}{r|llllll}\n",
       " country & continent & year & lifeExp & pop & gdpPercap\\\\\n",
       "\\hline\n",
       "\t Australia   & Oceania     & 2007        & 81.235      & 20434176    & 34435.37   \\\\\n",
       "\t New Zealand & Oceania     & 2007        & 80.204      &  4115771    & 25185.01   \\\\\n",
       "\\end{tabular}\n"
      ],
      "text/markdown": [
       "\n",
       "| country | continent | year | lifeExp | pop | gdpPercap |\n",
       "|---|---|---|---|---|---|\n",
       "| Australia   | Oceania     | 2007        | 81.235      | 20434176    | 34435.37    |\n",
       "| New Zealand | Oceania     | 2007        | 80.204      |  4115771    | 25185.01    |\n",
       "\n"
      ],
      "text/plain": [
       "  country     continent year lifeExp pop      gdpPercap\n",
       "1 Australia   Oceania   2007 81.235  20434176 34435.37 \n",
       "2 New Zealand Oceania   2007 80.204   4115771 25185.01 "
      ]
     },
     "metadata": {},
     "output_type": "display_data"
    }
   ],
   "source": [
    "oceania_1952 <- gapminder %>% filter(year == 2007, continent == \"Oceania\")\n",
    "oceania_1952"
   ]
  },
  {
   "cell_type": "code",
   "execution_count": 99,
   "metadata": {},
   "outputs": [
    {
     "data": {
      "image/png": "[encoded data removed]",
      "text/plain": [
       "plot without title"
      ]
     },
     "metadata": {},
     "output_type": "display_data"
    }
   ],
   "source": [
    "ggplot(oceania_1952, aes(x=country,y=gdpPercap,color=country)) + geom_col()"
   ]
  },
  {
   "cell_type": "markdown",
   "metadata": {},
   "source": [
    "### Histogram Plot"
   ]
  },
  {
   "cell_type": "code",
   "execution_count": 107,
   "metadata": {},
   "outputs": [
    {
     "data": {
      "image/png": "[encoded data removed]",
      "text/plain": [
       "plot without title"
      ]
     },
     "metadata": {},
     "output_type": "display_data"
    }
   ],
   "source": [
    "gap_2007 <- gapminder %>% filter(year == 2007)\n",
    "ggplot(gap_2007, aes(x=pop)) + geom_histogram(bins=50) + scale_x_log10()"
   ]
  },
  {
   "cell_type": "code",
   "execution_count": 108,
   "metadata": {},
   "outputs": [
    {
     "data": {
      "image/png": "[encoded data removed]",
      "text/plain": [
       "plot without title"
      ]
     },
     "metadata": {},
     "output_type": "display_data"
    }
   ],
   "source": [
    "ggplot(gap_2007, aes(x=continent,y=gdpPercap)) + geom_boxplot() + scale_y_log10()"
   ]
  }
 ],
 "metadata": {
  "kernelspec": {
   "display_name": "Python 3.7.7 64-bit ('r-tutorial': conda)",
   "language": "python",
   "name": "python37764bitrtutorialcondad2b8d1a209504e82bfbda336b49bff92"
  },
  "language_info": {
   "codemirror_mode": {
    "name": "ipython",
    "version": 3
   },
   "file_extension": ".py",
   "mimetype": "text/x-python",
   "name": "python",
   "nbconvert_exporter": "python",
   "pygments_lexer": "ipython3",
   "version": "3.7.7"
  }
 },
 "nbformat": 4,
 "nbformat_minor": 4
}
